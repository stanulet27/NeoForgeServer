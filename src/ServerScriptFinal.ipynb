{
 "cells": [
  {
   "cell_type": "code",
   "execution_count": 5,
   "metadata": {},
   "outputs": [],
   "source": [
    "import re\n",
    "import os\n",
    "\n",
    "from jax_fem.generate_mesh import get_meshio_cell_type,box_mesh,Mesh\n",
    "\n",
    "# SETUP/INITIALIZATION FUNCTIONS\n",
    "def create_next_run_folder(directory):\n",
    "    pattern = re.compile(r\"^run_(\\d+)$\")\n",
    "    items = os.listdir(directory)\n",
    "    run_folders = [item for item in items if os.path.isdir(os.path.join(directory, item)) and pattern.match(item)]\n",
    "    run_folders.sort(key=lambda x: int(pattern.match(x).group(1)))\n",
    "    \n",
    "    if run_folders:\n",
    "        last_run_number = int(pattern.match(run_folders[-1]).group(1))\n",
    "        next_run_number = last_run_number + 1\n",
    "    else:\n",
    "        next_run_number = 1\n",
    "    \n",
    "    next_run_folder = f\"run_{next_run_number:03d}\"\n",
    "    next_run_folder_path = os.path.join(directory, next_run_folder)\n",
    "    os.makedirs(next_run_folder_path)\n",
    "    run_folders.append(next_run_folder)\n",
    "\n",
    "    return run_folders,next_run_folder_path\n",
    "\n",
    "def setup_data_dir(outputFolder='data/runs'):\n",
    "    if not os.path.exists(outputFolder):\n",
    "        os.makedirs(outputFolder)\n",
    "    _,run_path = create_next_run_folder(outputFolder)\n",
    "    return run_path\n",
    "\n",
    "def setup_starting_mesh(data_dir):\n",
    "    # Specify mesh-related information(first-order hexahedron element).\n",
    "    ele_type = 'HEX8'\n",
    "    cell_type = get_meshio_cell_type(ele_type)\n",
    "    Lx, Ly, Lz = 2., 2., 2.\n",
    "    meshio_mesh = box_mesh(Nx=9, Ny=9, Nz=9, Lx=Lx, Ly=Ly, Lz=Lz, data_dir=data_dir, ele_type=ele_type)\n",
    "    mesh = Mesh(meshio_mesh.points, meshio_mesh.cells_dict[cell_type])\n",
    "    # ADD NOISE\n",
    "    # noiseArr = onp.random.normal(0,0.01,mesh.points.shape)\n",
    "    # mesh.points = mesh.points + noiseArr\n",
    "    # ROTATE MESH\n",
    "    # rot = Rotation.from_euler('x',50,degrees=True)\n",
    "    # mesh.points = rot.apply(mesh.points)\n",
    "    # rot = Rotation.from_euler('y',10,degrees=True)\n",
    "    # mesh.points = rot.apply(mesh.points)\n",
    "    # mesh.points = rotate_points(mesh.points, [0,1,0], onp.degrees(onp.arctan(onp.sqrt(2)/2)), [Lx/2,Ly/2,Lz/2])\n",
    "    return mesh\n"
   ]
  },
  {
   "cell_type": "code",
   "execution_count": 6,
   "metadata": {},
   "outputs": [],
   "source": [
    "from Library.Plasticity import Plasticity\n",
    "from Library.create_press import create_flat_rect_press\n",
    "from Library.PlasticitySim import PlasticitySim\n",
    "\n",
    "def get_rectangular_hit_sim(size,offset,hit_depth,mesh,data_dir,step_size=0.03):\n",
    "    problem = Plasticity(mesh,vec=3,dim=3)\n",
    "    press = create_flat_rect_press(size,offset,[0.,0.,-step_size],mesh.points,vecs=[0,1,2])\n",
    "    table = create_flat_rect_press([10.,10.],[0.,0.],[0.,0.,1e-6],mesh.points,vecs=[0,1,2],isTable=True)\n",
    "    table.update_displacement([0.,0.,0.])\n",
    "    num_steps = int(min(abs(hit_depth/step_size),100))\n",
    "\n",
    "    return PlasticitySim(problem,[press,table],data_dir),num_steps"
   ]
  },
  {
   "cell_type": "code",
   "execution_count": 7,
   "metadata": {},
   "outputs": [
    {
     "name": "stdout",
     "output_type": "stream",
     "text": [
      "Info    : Meshing 1D...\n",
      "Info    : [  0%] Meshing curve 1 (Extruded)\n",
      "Info    : [ 10%] Meshing curve 2 (Extruded)\n",
      "Info    : [ 20%] Meshing curve 3 (Extruded)\n",
      "Info    : [ 30%] Meshing curve 4 (Extruded)\n",
      "Info    : [ 40%] Meshing curve 7 (Extruded)\n",
      "Info    : [ 50%] Meshing curve 8 (Extruded)\n",
      "Info    : [ 50%] Meshing curve 9 (Extruded)\n",
      "Info    : [ 60%] Meshing curve 10 (Extruded)\n",
      "Info    : [ 70%] Meshing curve 12 (Extruded)\n",
      "Info    : [ 80%] Meshing curve 13 (Extruded)\n",
      "Info    : [ 90%] Meshing curve 17 (Extruded)\n",
      "Info    : [100%] Meshing curve 21 (Extruded)\n",
      "Info    : Done meshing 1D (Wall 0.000135127s, CPU 6.4e-05s)\n",
      "Info    : Meshing 2D...\n",
      "Info    : [  0%] Meshing surface 5 (Extruded)\n",
      "Info    : [ 20%] Meshing surface 14 (Extruded)\n",
      "Info    : [ 40%] Meshing surface 18 (Extruded)\n",
      "Info    : [ 50%] Meshing surface 22 (Extruded)\n",
      "Info    : [ 70%] Meshing surface 26 (Extruded)\n",
      "Info    : [ 90%] Meshing surface 27 (Extruded)\n",
      "Info    : Done meshing 2D (Wall 0.00179645s, CPU 0.00272s)\n",
      "Info    : Meshing 3D...\n",
      "Info    : Meshing volume 1 (Extruded)\n",
      "Info    : Done meshing 3D (Wall 0.00151395s, CPU 0.00169s)\n",
      "Info    : Optimizing mesh...\n",
      "Info    : Done optimizing mesh (Wall 9.61e-06s, CPU 1e-05s)\n",
      "Info    : 1000 nodes 1331 elements\n",
      "Info    : Writing 'data/runs/run_003/msh/box.msh'...\n",
      "Info    : Done writing 'data/runs/run_003/msh/box.msh'\n",
      "\n",
      "<class 'numpy.ndarray'>\n",
      "(1000, 3)\n"
     ]
    }
   ],
   "source": [
    "data_dir = setup_data_dir()\n",
    "mesh = setup_starting_mesh(data_dir)"
   ]
  },
  {
   "cell_type": "code",
   "execution_count": null,
   "metadata": {},
   "outputs": [],
   "source": [
    "simulation,num_steps = get_rectangular_hit_sim([1,1],[0,0],2,mesh,data_dir)\n",
    "print(simulation.presses[0].points)\n",
    "print(simulation.presses[1].points)\n",
    "print(f\"NUM STEPS: {num_steps}\")"
   ]
  },
  {
   "cell_type": "code",
   "execution_count": null,
   "metadata": {},
   "outputs": [],
   "source": [
    "import time\n",
    "# import logging\n",
    "# logging.disable(logging.CRITICAL)\n",
    "# import warnings\n",
    "# warnings.filterwarnings(\"ignore\",message=\"Optimal rotation is not uniquely or poorly defined for the given sets of vectors.\")\n",
    "\n",
    "start = time.time()\n",
    "simulation.update()\n",
    "print(f\"Update: {time.time()-start}\")\n",
    "\n",
    "print(simulation.presses[0].points)\n",
    "print(simulation.presses[1].points)"
   ]
  }
 ],
 "metadata": {
  "kernelspec": {
   "display_name": "jax-gpu",
   "language": "python",
   "name": "python3"
  },
  "language_info": {
   "codemirror_mode": {
    "name": "ipython",
    "version": 3
   },
   "file_extension": ".py",
   "mimetype": "text/x-python",
   "name": "python",
   "nbconvert_exporter": "python",
   "pygments_lexer": "ipython3",
   "version": "3.9.18"
  }
 },
 "nbformat": 4,
 "nbformat_minor": 2
}
