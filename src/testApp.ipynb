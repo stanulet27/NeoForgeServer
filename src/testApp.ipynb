{
 "cells": [
  {
   "cell_type": "code",
   "execution_count": 1,
   "metadata": {},
   "outputs": [],
   "source": [
    "from app import App\n",
    "\n",
    "testApp = App(standalone=True)\n",
    "\n",
    "testApp.run()"
   ]
  },
  {
   "cell_type": "code",
   "execution_count": 6,
   "metadata": {},
   "outputs": [
    {
     "name": "stdout",
     "output_type": "stream",
     "text": [
      "[[ 1  2  3]\n",
      " [ 4  5  6]\n",
      " [ 7  8  9]\n",
      " [10 11 12]]\n",
      "[array([[1],\n",
      "       [2],\n",
      "       [3]]), array([[4],\n",
      "       [5],\n",
      "       [6]]), array([[7],\n",
      "       [8],\n",
      "       [9]]), array([[10],\n",
      "       [11],\n",
      "       [12]])]\n",
      "(4, 3, 1)\n",
      "[[[ 1]\n",
      "  [ 2]\n",
      "  [ 3]]\n",
      "\n",
      " [[ 4]\n",
      "  [ 5]\n",
      "  [ 6]]\n",
      "\n",
      " [[ 7]\n",
      "  [ 8]\n",
      "  [ 9]]\n",
      "\n",
      " [[10]\n",
      "  [11]\n",
      "  [12]]]\n"
     ]
    }
   ],
   "source": [
    "import utilities as u\n",
    "import numpy as np\n",
    "testArr = [1,2,3,4,5,6,7,8,9,10,11,12]\n",
    "testArr2 = np.reshape(testArr,(-1,3))\n",
    "print(testArr2)\n",
    "testArr3 = u.combine_into_vectors(testArr)\n",
    "print(testArr3)\n",
    "testArr4 = np.array(testArr3)\n",
    "print(testArr4.shape)\n",
    "print(testArr4)"
   ]
  },
  {
   "cell_type": "code",
   "execution_count": 9,
   "metadata": {},
   "outputs": [
    {
     "name": "stdout",
     "output_type": "stream",
     "text": [
      "[[ 1  2  3]\n",
      " [ 4  5  6]\n",
      " [ 7  8  9]\n",
      " [10 11 12]]\n",
      "<class 'numpy.ndarray'>\n",
      "[ 1  2  3  4  5  6  7  8  9 10 11 12]\n",
      "<class 'list'>\n",
      "[1, 2, 3, 4, 5, 6, 7, 8, 9, 10, 11, 12]\n"
     ]
    }
   ],
   "source": [
    "points = np.array([[1,2,3],[4,5,6],[7,8,9],[10,11,12]])\n",
    "print(points)\n",
    "points2 = np.reshape(points,(-1))\n",
    "print(type(points2))\n",
    "print(points2)\n",
    "points3 = list(points2)\n",
    "print(type(points3))\n",
    "print(points3)"
   ]
  },
  {
   "cell_type": "code",
   "execution_count": 1,
   "metadata": {},
   "outputs": [
    {
     "name": "stdout",
     "output_type": "stream",
     "text": [
      "       __       ___      ___   ___                _______  _______ .___  ___. \n",
      "      |  |     /   \\     \\  \\ /  /               |   ____||   ____||   \\/   | \n",
      "      |  |    /  ^  \\     \\  V  /      ______    |  |__   |  |__   |  \\  /  | \n",
      ".--.  |  |   /  /_\\  \\     >   <      |______|   |   __|  |   __|  |  |\\/|  | \n",
      "|  `--'  |  /  _____  \\   /  .  \\                |  |     |  |____ |  |  |  | \n",
      " \\______/  /__/     \\__\\ /__/ \\__\\               |__|     |_______||__|  |__| \n",
      "                                                                              \n",
      "\n",
      "Setting material to testMaterial\n"
     ]
    }
   ],
   "source": [
    "from test_simulator2 import SimulationHandler as sim\n",
    "from part_material import Material as pmaterial\n",
    "\n",
    "testSim = sim({\"Triangles\": [1,2,3]},pmaterial(\"testMaterial\",5))"
   ]
  },
  {
   "cell_type": "code",
   "execution_count": 2,
   "metadata": {},
   "outputs": [
    {
     "data": {
      "text/plain": [
       "[array([0.42262, 0.     , 0.     , 0.90631]),\n",
       " array([0.     , 0.08716, 0.     , 0.99619])]"
      ]
     },
     "execution_count": 2,
     "metadata": {},
     "output_type": "execute_result"
    }
   ],
   "source": [
    "from scipy.spatial.transform import Rotation\n",
    "rot1 = Rotation.from_euler('x',50,degrees=True)\n",
    "rot2 = Rotation.from_euler('y',10,degrees=True)\n",
    "rc = Rotation.concatenate([rot1,rot2])\n",
    "rotFin = list(rc.as_quat())\n",
    "rotFin"
   ]
  },
  {
   "cell_type": "code",
   "execution_count": 3,
   "metadata": {},
   "outputs": [
    {
     "name": "stderr",
     "output_type": "stream",
     "text": [
      "[06-28 14:20:38][DEBUG] jax_fem: Computing shape function values, gradients, etc.\n",
      "[06-28 14:20:38][DEBUG] jax_fem: ele_type = HEX8, quad_points.shape = (num_quads, dim) = (8, 3)\n",
      "[06-28 14:20:38][DEBUG] jax_fem: face_quad_points.shape = (num_faces, num_face_quads, dim) = (6, 4, 3)\n"
     ]
    },
    {
     "name": "stderr",
     "output_type": "stream",
     "text": [
      "[06-28 14:20:38][DEBUG] jax_fem: Done pre-computations, took 0.01792168617248535 [s]\n",
      "[06-28 14:20:38][INFO] jax_fem: Solving a problem with 729 cells, 1000x3 = 3000 dofs.\n"
     ]
    },
    {
     "name": "stdout",
     "output_type": "stream",
     "text": [
      "Info    : Meshing 1D...\n",
      "Info    : [  0%] Meshing curve 1 (Extruded)\n",
      "Info    : [ 10%] Meshing curve 2 (Extruded)\n",
      "Info    : [ 20%] Meshing curve 3 (Extruded)\n",
      "Info    : [ 30%] Meshing curve 4 (Extruded)\n",
      "Info    : [ 40%] Meshing curve 7 (Extruded)\n",
      "Info    : [ 50%] Meshing curve 8 (Extruded)\n",
      "Info    : [ 50%] Meshing curve 9 (Extruded)\n",
      "Info    : [ 60%] Meshing curve 10 (Extruded)\n",
      "Info    : [ 70%] Meshing curve 12 (Extruded)\n",
      "Info    : [ 80%] Meshing curve 13 (Extruded)\n",
      "Info    : [ 90%] Meshing curve 17 (Extruded)\n",
      "Info    : [100%] Meshing curve 21 (Extruded)\n",
      "Info    : Done meshing 1D (Wall 0.00010611s, CPU 4.7e-05s)\n",
      "Info    : Meshing 2D...\n",
      "Info    : [  0%] Meshing surface 5 (Extruded)\n",
      "Info    : [ 20%] Meshing surface 14 (Extruded)\n",
      "Info    : [ 40%] Meshing surface 18 (Extruded)\n",
      "Info    : [ 50%] Meshing surface 22 (Extruded)\n",
      "Info    : [ 70%] Meshing surface 26 (Extruded)\n",
      "Info    : [ 90%] Meshing surface 27 (Extruded)\n",
      "Info    : Done meshing 2D (Wall 0.001364s, CPU 0.001424s)\n",
      "Info    : Meshing 3D...\n",
      "Info    : Meshing volume 1 (Extruded)\n",
      "Info    : Done meshing 3D (Wall 0.00152536s, CPU 0.000722s)\n",
      "Info    : Optimizing mesh...\n",
      "Info    : Done optimizing mesh (Wall 1.0255e-05s, CPU 5e-06s)\n",
      "Info    : 1000 nodes 1331 elements\n",
      "Info    : Writing 'data/runs/run_005/msh/box.msh'...\n",
      "Info    : Done writing 'data/runs/run_005/msh/box.msh'\n",
      "\n"
     ]
    },
    {
     "name": "stderr",
     "output_type": "stream",
     "text": [
      "/home/timothy/GitHub/NeoForgeServer/src/Library/create_press.py:19: UserWarning: Optimal rotation is not uniquely or poorly defined for the given sets of vectors.\n",
      "  rot,_ = Rotation.align_vectors([[0.,0.,-1.]],[displacement])\n",
      "/home/timothy/GitHub/NeoForgeServer/src/Library/create_press.py:17: UserWarning: Optimal rotation is not uniquely or poorly defined for the given sets of vectors.\n",
      "  rot,_ = Rotation.align_vectors([[0.,0.,1.]],[displacement])\n"
     ]
    },
    {
     "name": "stdout",
     "output_type": "stream",
     "text": [
      "STEP 1 OF 100\n",
      "DirichletBCInfo: 1.1230027675628662\n",
      "Simulation: 6.323411226272583\n",
      "Update: 7.46991491317749\n",
      "STEP 2 OF 100\n",
      "DirichletBCInfo: 0.05884218215942383\n",
      "Simulation: 4.093607664108276\n",
      "Update: 4.154475688934326\n",
      "STEP 3 OF 100\n",
      "DirichletBCInfo: 0.3938930034637451\n",
      "Simulation: 4.595734357833862\n",
      "Update: 4.991989374160767\n",
      "STEP 4 OF 100\n",
      "DirichletBCInfo: 0.06142830848693848\n",
      "Simulation: 4.058856725692749\n",
      "Update: 4.122258186340332\n",
      "STEP 5 OF 100\n",
      "DirichletBCInfo: 0.2615478038787842\n",
      "Simulation: 4.9095118045806885\n",
      "Update: 5.173442840576172\n",
      "STEP 6 OF 100\n",
      "DirichletBCInfo: 0.5073626041412354\n",
      "Simulation: 4.965070962905884\n",
      "Update: 5.474911689758301\n",
      "STEP 7 OF 100\n",
      "DirichletBCInfo: 0.37648940086364746\n",
      "Simulation: 4.118391990661621\n",
      "Update: 4.496201992034912\n",
      "STEP 8 OF 100\n",
      "DirichletBCInfo: 0.05323338508605957\n",
      "Simulation: 3.760702133178711\n",
      "Update: 3.816014051437378\n",
      "STEP 9 OF 100\n",
      "DirichletBCInfo: 0.5010650157928467\n",
      "Simulation: 5.0746378898620605\n",
      "Update: 5.578113794326782\n",
      "STEP 10 OF 100\n",
      "DirichletBCInfo: 0.20470809936523438\n",
      "Simulation: 3.037109136581421\n",
      "Update: 3.2441606521606445\n",
      "STEP 11 OF 100\n",
      "DirichletBCInfo: 0.4524233341217041\n",
      "Simulation: 4.327423334121704\n",
      "Update: 4.78219199180603\n",
      "STEP 12 OF 100\n",
      "DirichletBCInfo: 0.4268934726715088\n",
      "Simulation: 4.352620601654053\n",
      "Update: 4.781843662261963\n",
      "STEP 13 OF 100\n",
      "DirichletBCInfo: 0.2420816421508789\n",
      "Simulation: 4.5187883377075195\n",
      "Update: 4.763314962387085\n",
      "STEP 14 OF 100\n",
      "DirichletBCInfo: 0.2515873908996582\n",
      "Simulation: 4.126996040344238\n",
      "Update: 4.380113840103149\n",
      "STEP 15 OF 100\n",
      "DirichletBCInfo: 0.2526237964630127\n",
      "Simulation: 3.5730092525482178\n",
      "Update: 3.8279969692230225\n",
      "STEP 16 OF 100\n",
      "DirichletBCInfo: 0.42043328285217285\n",
      "Simulation: 4.324276924133301\n",
      "Update: 4.747098684310913\n",
      "STEP 17 OF 100\n",
      "DirichletBCInfo: 0.2656710147857666\n",
      "Simulation: 3.891481637954712\n",
      "Update: 4.159540891647339\n",
      "STEP 18 OF 100\n",
      "DirichletBCInfo: 0.2670290470123291\n",
      "Simulation: 3.7996065616607666\n",
      "Update: 4.068770408630371\n",
      "STEP 19 OF 100\n",
      "DirichletBCInfo: 0.2670719623565674\n",
      "Simulation: 4.103339672088623\n",
      "Update: 4.372981071472168\n",
      "STEP 20 OF 100\n",
      "DirichletBCInfo: 0.43320703506469727\n",
      "Simulation: 3.8454689979553223\n",
      "Update: 4.2811501026153564\n",
      "STEP 21 OF 100\n",
      "DirichletBCInfo: 0.14307379722595215\n",
      "Simulation: 3.121873140335083\n",
      "Update: 3.2677249908447266\n",
      "STEP 22 OF 100\n",
      "DirichletBCInfo: 0.4374363422393799\n",
      "Simulation: 4.637629270553589\n",
      "Update: 5.077365398406982\n",
      "STEP 23 OF 100\n",
      "DirichletBCInfo: 0.3005053997039795\n",
      "Simulation: 4.22234582901001\n",
      "Update: 4.527080535888672\n",
      "STEP 24 OF 100\n",
      "DirichletBCInfo: 0.3033468723297119\n",
      "Simulation: 3.987764835357666\n",
      "Update: 4.292494535446167\n",
      "STEP 25 OF 100\n",
      "DirichletBCInfo: 0.298004150390625\n",
      "Simulation: 4.345482110977173\n",
      "Update: 4.645184516906738\n",
      "STEP 26 OF 100\n",
      "DirichletBCInfo: 0.323500394821167\n",
      "Simulation: 4.184258460998535\n",
      "Update: 4.508985996246338\n",
      "STEP 27 OF 100\n",
      "DirichletBCInfo: 0.0584101676940918\n",
      "Simulation: 2.9512338638305664\n",
      "Update: 3.011693000793457\n",
      "STEP 28 OF 100\n",
      "DirichletBCInfo: 0.30077552795410156\n",
      "Simulation: 4.247598648071289\n",
      "Update: 4.550951957702637\n",
      "STEP 29 OF 100\n",
      "DirichletBCInfo: 0.056226491928100586\n",
      "Simulation: 2.7669918537139893\n",
      "Update: 2.82419490814209\n",
      "STEP 30 OF 100\n",
      "DirichletBCInfo: 0.2337956428527832\n",
      "Simulation: 2.816056966781616\n",
      "Update: 3.053427219390869\n",
      "STEP 31 OF 100\n",
      "DirichletBCInfo: 0.0753011703491211\n",
      "Simulation: 3.1962239742279053\n",
      "Update: 3.2741308212280273\n",
      "STEP 32 OF 100\n",
      "DirichletBCInfo: 0.05589604377746582\n",
      "Simulation: 2.3537371158599854\n",
      "Update: 2.4125688076019287\n",
      "STEP 33 OF 100\n",
      "DirichletBCInfo: 0.26025938987731934\n",
      "Simulation: 2.084223747253418\n",
      "Update: 2.347271203994751\n",
      "STEP 34 OF 100\n",
      "DirichletBCInfo: 0.07028079032897949\n",
      "Simulation: 2.1351051330566406\n",
      "Update: 2.207947015762329\n",
      "STEP 35 OF 100\n",
      "DirichletBCInfo: 0.06367278099060059\n",
      "Simulation: 2.1634104251861572\n",
      "Update: 2.228891611099243\n",
      "STEP 36 OF 100\n",
      "DirichletBCInfo: 0.06651878356933594\n",
      "Simulation: 2.021235704421997\n",
      "Update: 2.0900678634643555\n",
      "STEP 37 OF 100\n",
      "DirichletBCInfo: 0.058051347732543945\n",
      "Simulation: 2.136601209640503\n",
      "Update: 2.1955766677856445\n",
      "STEP 38 OF 100\n",
      "DirichletBCInfo: 0.061920166015625\n",
      "Simulation: 2.213850736618042\n",
      "Update: 2.2779314517974854\n",
      "STEP 39 OF 100\n",
      "DirichletBCInfo: 0.07628464698791504\n",
      "Simulation: 2.931018352508545\n",
      "Update: 3.0139639377593994\n",
      "STEP 40 OF 100\n",
      "DirichletBCInfo: 0.07874655723571777\n",
      "Simulation: 3.4779574871063232\n",
      "Update: 3.5630717277526855\n",
      "STEP 41 OF 100\n",
      "DirichletBCInfo: 5.895648956298828\n",
      "Simulation: 3.8341798782348633\n",
      "Update: 9.7415931224823\n",
      "STEP 42 OF 100\n",
      "DirichletBCInfo: 0.10574579238891602\n",
      "Simulation: 4.134854793548584\n",
      "Update: 4.247391700744629\n",
      "STEP 43 OF 100\n",
      "DirichletBCInfo: 0.09653162956237793\n",
      "Simulation: 12.11223578453064\n",
      "Update: 13.30498480796814\n",
      "STEP 44 OF 100\n",
      "DirichletBCInfo: 4.0840842723846436\n"
     ]
    }
   ],
   "source": [
    "hits = [1]\n",
    "force = 3\n",
    "quaternion = list(Rotation.from_euler('y',10,degrees=True).as_quat())\n",
    "translation_vector = [0,0,0]\n",
    "num_segments = 1\n",
    "result = testSim.execute_simulation(hits,force,quaternion,translation_vector,num_segments)"
   ]
  },
  {
   "cell_type": "code",
   "execution_count": 6,
   "metadata": {},
   "outputs": [
    {
     "data": {
      "text/plain": [
       "[-1, -2]"
      ]
     },
     "execution_count": 6,
     "metadata": {},
     "output_type": "execute_result"
    }
   ],
   "source": [
    "testList = [1,2,3]\n",
    "[-x for x in testList[:2]]"
   ]
  },
  {
   "cell_type": "code",
   "execution_count": 1,
   "metadata": {},
   "outputs": [],
   "source": [
    "from vtk_plotting import create_gif\n",
    "data_dir = 'data/runs/run_005'\n",
    "create_gif(data_dir,data_dir)\n",
    "create_gif(data_dir,data_dir,name=\"animation2.gif\",negative=True)"
   ]
  },
  {
   "cell_type": "code",
   "execution_count": null,
   "metadata": {},
   "outputs": [],
   "source": [
    "import tetgen\n",
    "import pyvista as pv\n",
    "import meshio\n",
    "def convert_stl_to_tetrahedral(stl_path, output_path):\n",
    "mesh = pv.read(stl_path)\n",
    "tet = tetgen.TetGen(mesh)\n",
    "tet.tetrahedralize(order=1, mindihedral=20, minratio=1.5)\n",
    "tet_mesh = tet.grid\n",
    "tet_mesh.save(output_path)\n",
    "print(f\"Tetrahedral mesh saved to {output_path}\")\n",
    "convert_stl_to_tetrahedral(\"./cylinder_low.stl\", \"output_cyl_low.vtk\")\n",
    "mesh = meshio.read(\"output_cyl_low.vtk\")\n",
    "print(mesh)"
   ]
  }
 ],
 "metadata": {
  "kernelspec": {
   "display_name": "jax-gpu",
   "language": "python",
   "name": "python3"
  },
  "language_info": {
   "codemirror_mode": {
    "name": "ipython",
    "version": 3
   },
   "file_extension": ".py",
   "mimetype": "text/x-python",
   "name": "python",
   "nbconvert_exporter": "python",
   "pygments_lexer": "ipython3",
   "version": "3.9.18"
  }
 },
 "nbformat": 4,
 "nbformat_minor": 2
}
